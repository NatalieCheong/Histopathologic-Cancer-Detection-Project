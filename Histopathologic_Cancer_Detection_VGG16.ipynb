{
  "metadata": {
    "colab": {
      "provenance": []
    },
    "kernelspec": {
      "name": "python3",
      "display_name": "Python 3"
    },
    "language_info": {
      "name": "python"
    },
    "gpuClass": "standard"
  },
  "nbformat_minor": 0,
  "nbformat": 4,
  "cells": [
    {
      "cell_type": "markdown",
      "source": [
        "In this notebook I will start my third model training. In my previous notebook, I had done my CNN model the first CNN model was simple model, and after that I move to another CNN model by adding dropout and layers, and from the performance there, the second model performance improve significantly after had do some regularization techniques. \n",
        "Now, in this notebook, I will used the pre-trained model VGG16."
      ],
      "metadata": {
        "id": "TqbqM9tRnv3a"
      }
    },
    {
      "cell_type": "code",
      "source": [
        "! pip install -q kaggle"
      ],
      "metadata": {
        "id": "oRGtvFglnyOV"
      },
      "execution_count": null,
      "outputs": []
    },
    {
      "cell_type": "code",
      "source": [
        "from google.colab import files"
      ],
      "metadata": {
        "id": "d_b-P7MoKLqY"
      },
      "execution_count": null,
      "outputs": []
    },
    {
      "cell_type": "code",
      "source": [
        "#files.upload()"
      ],
      "metadata": {
        "id": "zxX12_TUKL4X"
      },
      "execution_count": null,
      "outputs": []
    },
    {
      "cell_type": "code",
      "source": [
        "! mkdir ~/.kaggle"
      ],
      "metadata": {
        "id": "j4bA1wI9KL_p"
      },
      "execution_count": null,
      "outputs": []
    },
    {
      "cell_type": "code",
      "source": [
        "! cp kaggle.json ~/.kaggle"
      ],
      "metadata": {
        "id": "jg_e7mMbKMEI"
      },
      "execution_count": null,
      "outputs": []
    },
    {
      "cell_type": "code",
      "source": [
        "! chmod 600 ~/.kaggle/kaggle.json"
      ],
      "metadata": {
        "id": "sMXBIo8DKMII"
      },
      "execution_count": null,
      "outputs": []
    },
    {
      "cell_type": "code",
      "source": [
        "#! kaggle competitions download -c histopathologic-cancer-detection"
      ],
      "metadata": {
        "id": "2YPyYX0-KML1"
      },
      "execution_count": 1,
      "outputs": []
    },
    {
      "cell_type": "code",
      "source": [
        "import zipfile\n",
        "zip=zipfile.ZipFile('histopathologic-cancer-detection.zip')\n",
        "zip.extractall()"
      ],
      "metadata": {
        "id": "HFDvo0kiKMPd"
      },
      "execution_count": null,
      "outputs": []
    },
    {
      "cell_type": "code",
      "source": [
        "import os\n",
        "\n",
        "path='train_labels.csv'\n",
        "\n",
        "if os.access(path, os.R_OK):\n",
        "  print('File is readable')\n",
        "\n",
        "else:\n",
        "  print('File is not readable')\n",
        "\n",
        "if os.access(path, os.W_OK):\n",
        "  print('File is writable')\n",
        "\n",
        "else:\n",
        "  print('File is not writable')"
      ],
      "metadata": {
        "colab": {
          "base_uri": "https://localhost:8080/"
        },
        "id": "y9NdeDLDKMW4",
        "outputId": "b59acb7f-37ec-490c-e180-605bccf99957"
      },
      "execution_count": null,
      "outputs": [
        {
          "output_type": "stream",
          "name": "stdout",
          "text": "File is readable\n\nFile is writable\n"
        }
      ]
    },
    {
      "cell_type": "code",
      "source": [
        "import pandas as pd\n",
        "train_labels=pd.read_csv('train_labels.csv')"
      ],
      "metadata": {
        "id": "8fEtYngbfREv"
      },
      "execution_count": null,
      "outputs": []
    },
    {
      "cell_type": "code",
      "source": [
        "def add_tif(string):\n",
        "  return string+\".tif\"\n",
        "\n",
        "train_labels['id']=train_labels['id'].apply(add_tif)"
      ],
      "metadata": {
        "id": "xcVe1oMONSqw"
      },
      "execution_count": null,
      "outputs": []
    },
    {
      "cell_type": "code",
      "source": [
        "train_labels.head()"
      ],
      "metadata": {
        "colab": {
          "base_uri": "https://localhost:8080/",
          "height": 206
        },
        "id": "n2lhA_3GNSu-",
        "outputId": "0d6c2c6c-6b74-4278-d3d4-b243027e26c4"
      },
      "execution_count": null,
      "outputs": [
        {
          "output_type": "execute_result",
          "execution_count": 13,
          "data": {
            "text/plain": [
              "                                             id  label\n",
              "0  f38a6374c348f90b587e046aac6079959adf3835.tif      0\n",
              "1  c18f2d887b7ae4f6742ee445113fa1aef383ed77.tif      1\n",
              "2  755db6279dae599ebb4d39a9123cce439965282d.tif      0\n",
              "3  bc3f0c64fb968ff4a8bd33af6971ecae77c75e08.tif      0\n",
              "4  068aba587a4950175d04c680d38943fd488d6a9d.tif      0"
            ],
            "text/html": [
              "\n",
              "  <div id=\"df-cdd6142e-46a0-4aaa-b05b-cf310101239f\">\n",
              "    <div class=\"colab-df-container\">\n",
              "      <div>\n",
              "<style scoped>\n",
              "    .dataframe tbody tr th:only-of-type {\n",
              "        vertical-align: middle;\n",
              "    }\n",
              "\n",
              "    .dataframe tbody tr th {\n",
              "        vertical-align: top;\n",
              "    }\n",
              "\n",
              "    .dataframe thead th {\n",
              "        text-align: right;\n",
              "    }\n",
              "</style>\n",
              "<table border=\"1\" class=\"dataframe\">\n",
              "  <thead>\n",
              "    <tr style=\"text-align: right;\">\n",
              "      <th></th>\n",
              "      <th>id</th>\n",
              "      <th>label</th>\n",
              "    </tr>\n",
              "  </thead>\n",
              "  <tbody>\n",
              "    <tr>\n",
              "      <th>0</th>\n",
              "      <td>f38a6374c348f90b587e046aac6079959adf3835.tif</td>\n",
              "      <td>0</td>\n",
              "    </tr>\n",
              "    <tr>\n",
              "      <th>1</th>\n",
              "      <td>c18f2d887b7ae4f6742ee445113fa1aef383ed77.tif</td>\n",
              "      <td>1</td>\n",
              "    </tr>\n",
              "    <tr>\n",
              "      <th>2</th>\n",
              "      <td>755db6279dae599ebb4d39a9123cce439965282d.tif</td>\n",
              "      <td>0</td>\n",
              "    </tr>\n",
              "    <tr>\n",
              "      <th>3</th>\n",
              "      <td>bc3f0c64fb968ff4a8bd33af6971ecae77c75e08.tif</td>\n",
              "      <td>0</td>\n",
              "    </tr>\n",
              "    <tr>\n",
              "      <th>4</th>\n",
              "      <td>068aba587a4950175d04c680d38943fd488d6a9d.tif</td>\n",
              "      <td>0</td>\n",
              "    </tr>\n",
              "  </tbody>\n",
              "</table>\n",
              "</div>\n",
              "      <button class=\"colab-df-convert\" onclick=\"convertToInteractive('df-cdd6142e-46a0-4aaa-b05b-cf310101239f')\"\n",
              "              title=\"Convert this dataframe to an interactive table.\"\n",
              "              style=\"display:none;\">\n",
              "        \n",
              "  <svg xmlns=\"http://www.w3.org/2000/svg\" height=\"24px\"viewBox=\"0 0 24 24\"\n",
              "       width=\"24px\">\n",
              "    <path d=\"M0 0h24v24H0V0z\" fill=\"none\"/>\n",
              "    <path d=\"M18.56 5.44l.94 2.06.94-2.06 2.06-.94-2.06-.94-.94-2.06-.94 2.06-2.06.94zm-11 1L8.5 8.5l.94-2.06 2.06-.94-2.06-.94L8.5 2.5l-.94 2.06-2.06.94zm10 10l.94 2.06.94-2.06 2.06-.94-2.06-.94-.94-2.06-.94 2.06-2.06.94z\"/><path d=\"M17.41 7.96l-1.37-1.37c-.4-.4-.92-.59-1.43-.59-.52 0-1.04.2-1.43.59L10.3 9.45l-7.72 7.72c-.78.78-.78 2.05 0 2.83L4 21.41c.39.39.9.59 1.41.59.51 0 1.02-.2 1.41-.59l7.78-7.78 2.81-2.81c.8-.78.8-2.07 0-2.86zM5.41 20L4 18.59l7.72-7.72 1.47 1.35L5.41 20z\"/>\n",
              "  </svg>\n",
              "      </button>\n",
              "      \n",
              "  <style>\n",
              "    .colab-df-container {\n",
              "      display:flex;\n",
              "      flex-wrap:wrap;\n",
              "      gap: 12px;\n",
              "    }\n",
              "\n",
              "    .colab-df-convert {\n",
              "      background-color: #E8F0FE;\n",
              "      border: none;\n",
              "      border-radius: 50%;\n",
              "      cursor: pointer;\n",
              "      display: none;\n",
              "      fill: #1967D2;\n",
              "      height: 32px;\n",
              "      padding: 0 0 0 0;\n",
              "      width: 32px;\n",
              "    }\n",
              "\n",
              "    .colab-df-convert:hover {\n",
              "      background-color: #E2EBFA;\n",
              "      box-shadow: 0px 1px 2px rgba(60, 64, 67, 0.3), 0px 1px 3px 1px rgba(60, 64, 67, 0.15);\n",
              "      fill: #174EA6;\n",
              "    }\n",
              "\n",
              "    [theme=dark] .colab-df-convert {\n",
              "      background-color: #3B4455;\n",
              "      fill: #D2E3FC;\n",
              "    }\n",
              "\n",
              "    [theme=dark] .colab-df-convert:hover {\n",
              "      background-color: #434B5C;\n",
              "      box-shadow: 0px 1px 3px 1px rgba(0, 0, 0, 0.15);\n",
              "      filter: drop-shadow(0px 1px 2px rgba(0, 0, 0, 0.3));\n",
              "      fill: #FFFFFF;\n",
              "    }\n",
              "  </style>\n",
              "\n",
              "      <script>\n",
              "        const buttonEl =\n",
              "          document.querySelector('#df-cdd6142e-46a0-4aaa-b05b-cf310101239f button.colab-df-convert');\n",
              "        buttonEl.style.display =\n",
              "          google.colab.kernel.accessAllowed ? 'block' : 'none';\n",
              "\n",
              "        async function convertToInteractive(key) {\n",
              "          const element = document.querySelector('#df-cdd6142e-46a0-4aaa-b05b-cf310101239f');\n",
              "          const dataTable =\n",
              "            await google.colab.kernel.invokeFunction('convertToInteractive',\n",
              "                                                     [key], {});\n",
              "          if (!dataTable) return;\n",
              "\n",
              "          const docLinkHtml = 'Like what you see? Visit the ' +\n",
              "            '<a target=\"_blank\" href=https://colab.research.google.com/notebooks/data_table.ipynb>data table notebook</a>'\n",
              "            + ' to learn more about interactive tables.';\n",
              "          element.innerHTML = '';\n",
              "          dataTable['output_type'] = 'display_data';\n",
              "          await google.colab.output.renderOutput(dataTable, element);\n",
              "          const docLink = document.createElement('div');\n",
              "          docLink.innerHTML = docLinkHtml;\n",
              "          element.appendChild(docLink);\n",
              "        }\n",
              "      </script>\n",
              "    </div>\n",
              "  </div>\n",
              "  "
            ]
          },
          "metadata": {}
        }
      ]
    },
    {
      "cell_type": "code",
      "source": [
        "#Subfolder\n",
        "\n",
        "import os\n",
        "import shutil\n",
        "\n",
        "train_folder='./train'\n",
        "test_folder='./test'\n",
        "\n",
        "for i in range(2):\n",
        "  subdirectory=os.path.join(train_folder, str(i))\n",
        "  os.makedirs(subdirectory, exist_ok=True)\n",
        "\n",
        "with open('./train_labels.csv', 'r') as f:\n",
        "  next(f)\n",
        "  for line in f:\n",
        "    filename, label=line.strip().split(',')\n",
        "    label=int(label)\n",
        "    src=os.path.join(train_folder, filename + '.tif')\n",
        "    dst=os.path.join(train_folder, str(label), filename + '.tif')\n",
        "    shutil.move(src, dst)\n",
        "\n",
        "for i in range(2):\n",
        "  subdirectory=os.path.join(test_folder, str(i))\n",
        "  os.makedirs(subdirectory, exist_ok=True)\n",
        "\n",
        "with open('./sample_submission.csv', 'r') as f:\n",
        "  next(f)\n",
        "  for line in f:\n",
        "    filename=line.strip().split(',')[0]\n",
        "    src=os.path.join(test_folder, filename + '.tif')\n",
        "    dst=os.path.join(test_folder, '0', filename + '.tif')\n",
        "    shutil.move(src, dst)"
      ],
      "metadata": {
        "id": "kkEb_BUbNSy3"
      },
      "execution_count": null,
      "outputs": []
    },
    {
      "cell_type": "code",
      "source": [
        "train_labels['label']=train_labels['label'].astype(str)"
      ],
      "metadata": {
        "id": "wgw7oAYuin1g"
      },
      "execution_count": null,
      "outputs": []
    },
    {
      "cell_type": "code",
      "source": [
        "from tensorflow.keras.preprocessing.image import ImageDataGenerator\n",
        "\n",
        "train_dir='./train'\n",
        "test_dir='./test'\n",
        "\n",
        "train_datagen=ImageDataGenerator(rescale=1./255, validation_split=0.2)\n",
        "test_datagen=ImageDataGenerator(rescale=1./255)\n",
        "\n",
        "train_gen=train_datagen.flow_from_directory(\n",
        "    train_dir,\n",
        "    target_size=(96,96),\n",
        "    batch_size=256,\n",
        "    class_mode='binary',\n",
        "    subset='training'\n",
        ")\n",
        "\n",
        "val_gen=train_datagen.flow_from_directory(\n",
        "    train_dir,\n",
        "    target_size=(96,96),\n",
        "    batch_size=256,\n",
        "    class_mode='binary',\n",
        "    subset='validation'\n",
        ")"
      ],
      "metadata": {
        "colab": {
          "base_uri": "https://localhost:8080/"
        },
        "id": "6sffpu_INS1t",
        "outputId": "8b9c2f01-e7b5-4273-cc10-02550ebe0d02"
      },
      "execution_count": null,
      "outputs": [
        {
          "output_type": "stream",
          "name": "stdout",
          "text": "Found 176021 images belonging to 2 classes.\n\nFound 44004 images belonging to 2 classes.\n"
        }
      ]
    },
    {
      "cell_type": "code",
      "source": [
        "test_gen=test_datagen.flow_from_directory(\n",
        "    test_dir,\n",
        "    target_size=(96,96),\n",
        "    batch_size=256,\n",
        "    class_mode=None,\n",
        "    shuffle=False\n",
        ")"
      ],
      "metadata": {
        "colab": {
          "base_uri": "https://localhost:8080/"
        },
        "id": "vWQEqLrpXGrs",
        "outputId": "edd95a5d-8f64-4a14-ddc9-5299d3889775"
      },
      "execution_count": null,
      "outputs": [
        {
          "output_type": "stream",
          "name": "stdout",
          "text": "Found 57458 images belonging to 2 classes.\n"
        }
      ]
    },
    {
      "cell_type": "code",
      "source": [
        "from tensorflow.keras.applications.vgg16 import VGG16\n",
        "from tensorflow.keras.layers import Flatten, Dropout, Dense\n",
        "from tensorflow.keras.models import Model\n",
        "from tensorflow.keras.optimizers import SGD\n",
        "from tensorflow.keras.preprocessing.image import ImageDataGenerator\n",
        "\n",
        "base_model = VGG16(weights='imagenet', include_top=False, input_shape=(96,96,3))\n",
        "\n",
        "x=base_model.output\n",
        "x=Flatten()(x)\n",
        "x=Dense(256, activation='relu')(x)\n",
        "x=Dense(1, activation='sigmoid')(x)\n",
        "\n",
        "modelVGG16 = Model(inputs=base_model.input, outputs=x)\n",
        "\n",
        "#freeze the base model layers\n",
        "for layer in base_model.layers:\n",
        "  layer.trainable=False\n",
        "\n",
        "modelVGG16.compile(optimizer=SGD(learning_rate=0.001, momentum=0.9), loss='binary_crossentropy',\n",
        "                   metrics=['accuracy'])\n",
        "\n",
        "train_datagen=ImageDataGenerator(rescale=1.0/255.0, shear_range=0.2, zoom_range=0.2, \n",
        "                                 horizontal_flip=True)\n",
        "test_datagen=ImageDataGenerator(rescale=1.0/255.0)\n",
        "\n",
        "train_gen=train_datagen.flow_from_directory('./train', target_size=(96,96), batch_size=256,\n",
        "                                            class_mode='binary')\n",
        "test_gen=test_datagen.flow_from_directory('./test', target_size=(96,96), batch_size=256, \n",
        "                                          class_mode='binary')\n",
        "\n",
        "historyVGG16=modelVGG16.fit(train_gen, epochs=10, validation_data=test_gen)\n",
        "\n",
        "test_loss, test_acc = modelVGG16.evaluate(test_gen)\n",
        "print('Test Loss:', test_loss)\n",
        "print('Test accuracy:', test_acc)\n",
        "\n"
      ],
      "metadata": {
        "colab": {
          "base_uri": "https://localhost:8080/"
        },
        "id": "bGUWsm43STsp",
        "outputId": "939cee93-3b79-4c1e-cb21-dca191728e85"
      },
      "execution_count": null,
      "outputs": [
        {
          "output_type": "stream",
          "name": "stdout",
          "text": "Found 220025 images belonging to 2 classes.\n\nFound 57458 images belonging to 2 classes.\n\nEpoch 1/10\n\n860/860 [==============================] - 799s 928ms/step - loss: 0.4269 - accuracy: 0.8042 - val_loss: 0.7259 - val_accuracy: 0.6765\n\nEpoch 2/10\n\n860/860 [==============================] - 811s 943ms/step - loss: 0.3901 - accuracy: 0.8257 - val_loss: 0.8534 - val_accuracy: 0.6415\n\nEpoch 3/10\n\n860/860 [==============================] - 803s 933ms/step - loss: 0.3791 - accuracy: 0.8320 - val_loss: 0.8475 - val_accuracy: 0.6523\n\nEpoch 4/10\n\n860/860 [==============================] - 799s 929ms/step - loss: 0.3701 - accuracy: 0.8358 - val_loss: 0.9200 - val_accuracy: 0.6339\n\nEpoch 5/10\n\n860/860 [==============================] - 799s 929ms/step - loss: 0.3640 - accuracy: 0.8390 - val_loss: 0.8420 - val_accuracy: 0.6621\n\nEpoch 6/10\n\n860/860 [==============================] - 810s 942ms/step - loss: 0.3585 - accuracy: 0.8423 - val_loss: 0.8451 - val_accuracy: 0.6631\n\nEpoch 7/10\n\n860/860 [==============================] - 799s 929ms/step - loss: 0.3532 - accuracy: 0.8445 - val_loss: 0.9218 - val_accuracy: 0.6375\n\nEpoch 8/10\n\n860/860 [==============================] - 825s 959ms/step - loss: 0.3497 - accuracy: 0.8469 - val_loss: 0.9417 - val_accuracy: 0.6385\n\nEpoch 9/10\n\n860/860 [==============================] - 814s 946ms/step - loss: 0.3471 - accuracy: 0.8475 - val_loss: 0.7892 - val_accuracy: 0.6867\n\nEpoch 10/10\n\n860/860 [==============================] - 792s 920ms/step - loss: 0.3430 - accuracy: 0.8499 - val_loss: 0.8648 - val_accuracy: 0.6672\n\n225/225 [==============================] - 43s 192ms/step - loss: 0.8648 - accuracy: 0.6672\n\nTest Loss: 0.8648371696472168\n\nTest accuracy: 0.6672177910804749\n"
        }
      ]
    },
    {
      "cell_type": "markdown",
      "source": [
        "The first VGG16 model that was trained yielded suboptimal results, with a validation accuracy of 0.67 and loss of 0.87. To improve the model's performance, a new VGG16 model will be create with the addition of layers and dropout to prevent overfitting. This new model is expected to have better accuracy and lower loss, leading to more accurate predictions."
      ],
      "metadata": {
        "id": "OPzVYIMNotNd"
      }
    },
    {
      "cell_type": "code",
      "source": [
        "#Regularization for VGG16 adding dropout\n",
        "base_model2=VGG16(weights='imagenet', include_top=False, input_shape=(96,96,3))\n",
        "\n",
        "x=base_model2.output\n",
        "x=Flatten()(x)\n",
        "x=Dense(4096, activation='relu')(x)\n",
        "x=Dropout(0.5)(x)\n",
        "x=Dense(4096, activation='relu')(x)\n",
        "x=Dropout(0.5)(x)\n",
        "predictions=Dense(1, activation='sigmoid')(x)\n",
        "\n",
        "modelVGG16_2=Model(inputs=base_model2.input, outputs=predictions)\n",
        "\n",
        "modelVGG16_2.compile(optimizer=SGD(learning_rate=0.001, momentum=0.9),\n",
        "                     loss='binary_crossentropy',\n",
        "                     metrics=['accuracy'])\n",
        "\n",
        "historyVGG16_2=modelVGG16_2.fit(train_gen, validation_data=val_gen, epochs=10)\n",
        "\n",
        "test_loss1, test_acc1 = modelVGG16_2.evaluate(test_gen)\n",
        "print('Test Accuracy', test_acc1)"
      ],
      "metadata": {
        "colab": {
          "base_uri": "https://localhost:8080/"
        },
        "id": "DJ3TqldyU0yd",
        "outputId": "7292157c-ebfb-4206-c476-9276ddb98098"
      },
      "execution_count": null,
      "outputs": [
        {
          "output_type": "stream",
          "name": "stdout",
          "text": "Epoch 1/10\n\n860/860 [==============================] - 1169s 1s/step - loss: 0.3180 - accuracy: 0.8631 - val_loss: 0.2352 - val_accuracy: 0.9050\n\nEpoch 2/10\n\n860/860 [==============================] - 924s 1s/step - loss: 0.2176 - accuracy: 0.9145 - val_loss: 0.1874 - val_accuracy: 0.9318\n\nEpoch 3/10\n\n860/860 [==============================] - 916s 1s/step - loss: 0.1881 - accuracy: 0.9278 - val_loss: 0.1664 - val_accuracy: 0.9375\n\nEpoch 4/10\n\n860/860 [==============================] - 898s 1s/step - loss: 0.1726 - accuracy: 0.9351 - val_loss: 0.1559 - val_accuracy: 0.9421\n\nEpoch 5/10\n\n860/860 [==============================] - 946s 1s/step - loss: 0.1581 - accuracy: 0.9411 - val_loss: 0.1510 - val_accuracy: 0.9437\n\nEpoch 6/10\n\n860/860 [==============================] - 898s 1s/step - loss: 0.1494 - accuracy: 0.9443 - val_loss: 0.1525 - val_accuracy: 0.9450\n\nEpoch 7/10\n\n860/860 [==============================] - 898s 1s/step - loss: 0.1416 - accuracy: 0.9479 - val_loss: 0.1538 - val_accuracy: 0.9453\n\nEpoch 8/10\n\n860/860 [==============================] - 908s 1s/step - loss: 0.1347 - accuracy: 0.9499 - val_loss: 0.1461 - val_accuracy: 0.9472\n\nEpoch 9/10\n\n860/860 [==============================] - 898s 1s/step - loss: 0.1282 - accuracy: 0.9531 - val_loss: 0.1328 - val_accuracy: 0.9545\n\nEpoch 10/10\n\n860/860 [==============================] - 896s 1s/step - loss: 0.1208 - accuracy: 0.9564 - val_loss: 0.1174 - val_accuracy: 0.9573\n\n225/225 [==============================] - 75s 335ms/step - loss: 1.5821 - accuracy: 0.6687\n\nTest Accuracy 0.6687319278717041\n"
        }
      ]
    },
    {
      "cell_type": "code",
      "source": [
        "print('Test Loss:', test_loss1)"
      ],
      "metadata": {
        "colab": {
          "base_uri": "https://localhost:8080/"
        },
        "id": "bd_77_HNDyIe",
        "outputId": "5a26db9f-dfe8-47ae-dfda-97c39ba98985"
      },
      "execution_count": null,
      "outputs": [
        {
          "output_type": "stream",
          "name": "stdout",
          "text": "Test Loss: 1.5821388959884644\n"
        }
      ]
    },
    {
      "cell_type": "code",
      "source": [
        "test_datagen=ImageDataGenerator(rescale=1./255)\n",
        "\n",
        "test_gen=test_datagen.flow_from_directory(\n",
        "    test_dir,\n",
        "    target_size=(96,96),\n",
        "    batch_size=256,\n",
        "    class_mode=None,\n",
        "    shuffle=False\n",
        ")\n",
        "\n"
      ],
      "metadata": {
        "colab": {
          "base_uri": "https://localhost:8080/"
        },
        "id": "QCWqhjWsErNO",
        "outputId": "03e57d0f-4aba-4f13-a249-b5d7c6affcca"
      },
      "execution_count": null,
      "outputs": [
        {
          "output_type": "stream",
          "name": "stdout",
          "text": "Found 57458 images belonging to 2 classes.\n"
        }
      ]
    },
    {
      "cell_type": "code",
      "source": [
        "import numpy as np\n",
        "from sklearn.metrics import classification_report\n",
        "\n",
        "# VGG16 First model \n",
        "vgg16_predictions=modelVGG16.predict(test_gen)\n",
        "vgg16_predict_labels=np.argmax(vgg16_predictions, axis=1)\n",
        "vgg16_true_labels=test_gen.classes\n",
        "vgg16_report=classification_report(vgg16_true_labels, vgg16_predict_labels)\n",
        "print('VGG16 Classification Report:\\n', vgg16_report)\n",
        "\n",
        "# VGG16 Second model with dropout\n",
        "vgg16_2_predictions=modelVGG16_2.predict(test_gen)\n",
        "vgg16_2_predicted_labels=np.argmax(vgg16_2_predictions, axis=1)\n",
        "vgg16_2_true_labels=test_gen.classes\n",
        "vgg16_2_report=classification_report(vgg16_2_true_labels, vgg16_2_predicted_labels)\n",
        "print('VGG16 Model2 Classification Report:\\n', vgg16_2_report)"
      ],
      "metadata": {
        "colab": {
          "base_uri": "https://localhost:8080/"
        },
        "id": "vGPcDGW0Dynp",
        "outputId": "1c4a36c7-ed76-42d2-cc4f-3b558ad719b9"
      },
      "execution_count": null,
      "outputs": [
        {
          "output_type": "stream",
          "name": "stdout",
          "text": "225/225 [==============================] - 43s 190ms/step\n\nVGG16 Classification Report:\n\n               precision    recall  f1-score   support\n\n\n\n           0       1.00      1.00      1.00     57458\n\n\n\n    accuracy                           1.00     57458\n\n   macro avg       1.00      1.00      1.00     57458\n\nweighted avg       1.00      1.00      1.00     57458\n\n\n\n225/225 [==============================] - 44s 195ms/step\n\nVGG16 Model2 Classification Report:\n\n               precision    recall  f1-score   support\n\n\n\n           0       1.00      1.00      1.00     57458\n\n\n\n    accuracy                           1.00     57458\n\n   macro avg       1.00      1.00      1.00     57458\n\nweighted avg       1.00      1.00      1.00     57458\n\n\n"
        }
      ]
    },
    {
      "cell_type": "code",
      "source": [
        "import matplotlib.pyplot as plt\n",
        "\n",
        "#plot for accuracy\n",
        "plt.figure(figsize=(15,15))\n",
        "plt.subplot(1,2,1)\n",
        "plt.plot(historyVGG16.history['accuracy'])\n",
        "plt.plot(historyVGG16_2.history['accuracy'])\n",
        "plt.title('Model Accuracy')\n",
        "plt.ylabel('Accuracy')\n",
        "plt.xlabel('Epoch')\n",
        "plt.legend(['modelVGG16', 'modelVGG16_2'], loc='upper left')\n",
        "\n",
        "#plot for loss\n",
        "plt.subplot(1,2,2)\n",
        "plt.plot(historyVGG16.history['loss'])\n",
        "plt.plot(historyVGG16_2.history['loss'])\n",
        "plt.title('Model loss')\n",
        "plt.ylabel('Loss')\n",
        "plt.xlabel('Epoch')\n",
        "plt.legend(['modelVGG16, modelVGG16_2'], loc='upper right')"
      ],
      "metadata": {
        "colab": {
          "base_uri": "https://localhost:8080/",
          "height": 850
        },
        "id": "yrGy82nBSUAp",
        "outputId": "342f29fa-d98a-4156-e326-33ebea2a54c1"
      },
      "execution_count": null,
      "outputs": [
        {
          "output_type": "execute_result",
          "execution_count": 29,
          "data": {
            "text/plain": [
              "<matplotlib.legend.Legend at 0x7feda3f70f40>"
            ]
          },
          "metadata": {}
        },
        {
          "output_type": "display_data",
          "data": {
            "text/plain": [
              "<Figure size 1080x1080 with 2 Axes>"
            ],
            "image/png": "[encoded data removed]"
          },
          "metadata": {
            "needs_background": "light"
          }
        }
      ]
    },
    {
      "cell_type": "markdown",
      "source": [
        "The second VGG16 model has shown remarkable performance improvements over the first one, as it achieved an impressive accuracy rate of 0.96 and a low loss of 0.12. The model was created with additional layers and dropout added to it, which played a crucial role in enhancing the model's accuracy and generalization capabilities. By reducing overfitting and preventing the model from relying too much on specific features, the second VGG16 model can generalize better to unseen data, and that has led to its remarkable performance."
      ],
      "metadata": {
        "id": "bBsaIX2ase5l"
      }
    },
    {
      "cell_type": "markdown",
      "source": [
        "Next, I will create two more pre-trained model, VGG19 and ResNet50 in my third notebook. "
      ],
      "metadata": {
        "id": "VDeb9kY_siHB"
      }
    }
  ]
}