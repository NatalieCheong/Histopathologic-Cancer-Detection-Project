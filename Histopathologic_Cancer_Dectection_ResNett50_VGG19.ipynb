{
  "metadata": {
    "colab": {
      "provenance": []
    },
    "kernelspec": {
      "name": "python3",
      "display_name": "Python 3"
    },
    "language_info": {
      "name": "python"
    },
    "gpuClass": "standard"
  },
  "nbformat_minor": 0,
  "nbformat": 4,
  "cells": [
    {
      "cell_type": "markdown",
      "source": [
        "This the third notebook that I will continue to use pre-trained model, ResNet50 and VGG19."
      ],
      "metadata": {
        "id": "m8POV7YEuRtf"
      }
    },
    {
      "cell_type": "code",
      "source": [
        "! pip install -q kaggle"
      ],
      "metadata": {
        "id": "l0tlNA2JuQ1H"
      },
      "execution_count": null,
      "outputs": []
    },
    {
      "cell_type": "code",
      "source": [
        "from google.colab import files"
      ],
      "metadata": {
        "id": "yjQ9LaFJxVAA"
      },
      "execution_count": null,
      "outputs": []
    },
    {
      "cell_type": "code",
      "source": [
        "#files.upload()"
      ],
      "metadata": {
        "id": "tEH7pICHxVEx"
      },
      "execution_count": null,
      "outputs": []
    },
    {
      "cell_type": "code",
      "source": [
        "! mkdir ~/.kaggle"
      ],
      "metadata": {
        "id": "157gRPvcxVIb"
      },
      "execution_count": null,
      "outputs": []
    },
    {
      "cell_type": "code",
      "source": [
        "cp kaggle.json ~/.kaggle/"
      ],
      "metadata": {
        "id": "H5_2VY7fxVMf"
      },
      "execution_count": null,
      "outputs": []
    },
    {
      "cell_type": "code",
      "source": [
        "! chmod 600 ~/.kaggle/kaggle.json"
      ],
      "metadata": {
        "id": "mCC3T7aMxVPX"
      },
      "execution_count": null,
      "outputs": []
    },
    {
      "cell_type": "code",
      "source": [
        "! kaggle competitions download -c histopathologic-cancer-detection"
      ],
      "metadata": {
        "id": "9VQdiZtvxVTe",
        "colab": {
          "base_uri": "https://localhost:8080/"
        },
        "outputId": "b63d6ba6-3e01-4412-ebc7-8c12ffccf024"
      },
      "execution_count": null,
      "outputs": [
        {
          "output_type": "stream",
          "name": "stdout",
          "text": "Downloading histopathologic-cancer-detection.zip to /content\n\n100% 6.31G/6.31G [03:37<00:00, 35.1MB/s]\n\n100% 6.31G/6.31G [03:37<00:00, 31.1MB/s]\n"
        }
      ]
    },
    {
      "cell_type": "code",
      "source": [
        "import zipfile\n",
        "\n",
        "zip=zipfile.ZipFile('histopathologic-cancer-detection.zip')\n",
        "zip.extractall()"
      ],
      "metadata": {
        "id": "vGUGB4DMxVXM"
      },
      "execution_count": null,
      "outputs": []
    },
    {
      "cell_type": "code",
      "source": [
        "import pandas as pd\n",
        "\n",
        "train_labels=pd.read_csv('train_labels.csv')"
      ],
      "metadata": {
        "id": "u8LgXrY6xVfF"
      },
      "execution_count": null,
      "outputs": []
    },
    {
      "cell_type": "code",
      "source": [
        "def add_tif(string):\n",
        "  return string + '.tif'\n",
        "\n",
        "train_labels['id']=train_labels['id'].apply(add_tif)"
      ],
      "metadata": {
        "id": "c5FgoJgN1Rgp"
      },
      "execution_count": null,
      "outputs": []
    },
    {
      "cell_type": "code",
      "source": [
        "train_labels.head()"
      ],
      "metadata": {
        "id": "6e2GmAtE1RnM",
        "colab": {
          "base_uri": "https://localhost:8080/",
          "height": 206
        },
        "outputId": "2387c99c-4ecc-4f06-d984-4c2c955fbf86"
      },
      "execution_count": null,
      "outputs": [
        {
          "output_type": "execute_result",
          "execution_count": 14,
          "data": {
            "text/plain": [
              "                                             id  label\n",
              "0  f38a6374c348f90b587e046aac6079959adf3835.tif      0\n",
              "1  c18f2d887b7ae4f6742ee445113fa1aef383ed77.tif      1\n",
              "2  755db6279dae599ebb4d39a9123cce439965282d.tif      0\n",
              "3  bc3f0c64fb968ff4a8bd33af6971ecae77c75e08.tif      0\n",
              "4  068aba587a4950175d04c680d38943fd488d6a9d.tif      0"
            ],
            "text/html": [
              "\n",
              "  <div id=\"df-275a30ee-66dd-455c-9967-cbf6f8a9783e\">\n",
              "    <div class=\"colab-df-container\">\n",
              "      <div>\n",
              "<style scoped>\n",
              "    .dataframe tbody tr th:only-of-type {\n",
              "        vertical-align: middle;\n",
              "    }\n",
              "\n",
              "    .dataframe tbody tr th {\n",
              "        vertical-align: top;\n",
              "    }\n",
              "\n",
              "    .dataframe thead th {\n",
              "        text-align: right;\n",
              "    }\n",
              "</style>\n",
              "<table border=\"1\" class=\"dataframe\">\n",
              "  <thead>\n",
              "    <tr style=\"text-align: right;\">\n",
              "      <th></th>\n",
              "      <th>id</th>\n",
              "      <th>label</th>\n",
              "    </tr>\n",
              "  </thead>\n",
              "  <tbody>\n",
              "    <tr>\n",
              "      <th>0</th>\n",
              "      <td>f38a6374c348f90b587e046aac6079959adf3835.tif</td>\n",
              "      <td>0</td>\n",
              "    </tr>\n",
              "    <tr>\n",
              "      <th>1</th>\n",
              "      <td>c18f2d887b7ae4f6742ee445113fa1aef383ed77.tif</td>\n",
              "      <td>1</td>\n",
              "    </tr>\n",
              "    <tr>\n",
              "      <th>2</th>\n",
              "      <td>755db6279dae599ebb4d39a9123cce439965282d.tif</td>\n",
              "      <td>0</td>\n",
              "    </tr>\n",
              "    <tr>\n",
              "      <th>3</th>\n",
              "      <td>bc3f0c64fb968ff4a8bd33af6971ecae77c75e08.tif</td>\n",
              "      <td>0</td>\n",
              "    </tr>\n",
              "    <tr>\n",
              "      <th>4</th>\n",
              "      <td>068aba587a4950175d04c680d38943fd488d6a9d.tif</td>\n",
              "      <td>0</td>\n",
              "    </tr>\n",
              "  </tbody>\n",
              "</table>\n",
              "</div>\n",
              "      <button class=\"colab-df-convert\" onclick=\"convertToInteractive('df-275a30ee-66dd-455c-9967-cbf6f8a9783e')\"\n",
              "              title=\"Convert this dataframe to an interactive table.\"\n",
              "              style=\"display:none;\">\n",
              "        \n",
              "  <svg xmlns=\"http://www.w3.org/2000/svg\" height=\"24px\"viewBox=\"0 0 24 24\"\n",
              "       width=\"24px\">\n",
              "    <path d=\"M0 0h24v24H0V0z\" fill=\"none\"/>\n",
              "    <path d=\"M18.56 5.44l.94 2.06.94-2.06 2.06-.94-2.06-.94-.94-2.06-.94 2.06-2.06.94zm-11 1L8.5 8.5l.94-2.06 2.06-.94-2.06-.94L8.5 2.5l-.94 2.06-2.06.94zm10 10l.94 2.06.94-2.06 2.06-.94-2.06-.94-.94-2.06-.94 2.06-2.06.94z\"/><path d=\"M17.41 7.96l-1.37-1.37c-.4-.4-.92-.59-1.43-.59-.52 0-1.04.2-1.43.59L10.3 9.45l-7.72 7.72c-.78.78-.78 2.05 0 2.83L4 21.41c.39.39.9.59 1.41.59.51 0 1.02-.2 1.41-.59l7.78-7.78 2.81-2.81c.8-.78.8-2.07 0-2.86zM5.41 20L4 18.59l7.72-7.72 1.47 1.35L5.41 20z\"/>\n",
              "  </svg>\n",
              "      </button>\n",
              "      \n",
              "  <style>\n",
              "    .colab-df-container {\n",
              "      display:flex;\n",
              "      flex-wrap:wrap;\n",
              "      gap: 12px;\n",
              "    }\n",
              "\n",
              "    .colab-df-convert {\n",
              "      background-color: #E8F0FE;\n",
              "      border: none;\n",
              "      border-radius: 50%;\n",
              "      cursor: pointer;\n",
              "      display: none;\n",
              "      fill: #1967D2;\n",
              "      height: 32px;\n",
              "      padding: 0 0 0 0;\n",
              "      width: 32px;\n",
              "    }\n",
              "\n",
              "    .colab-df-convert:hover {\n",
              "      background-color: #E2EBFA;\n",
              "      box-shadow: 0px 1px 2px rgba(60, 64, 67, 0.3), 0px 1px 3px 1px rgba(60, 64, 67, 0.15);\n",
              "      fill: #174EA6;\n",
              "    }\n",
              "\n",
              "    [theme=dark] .colab-df-convert {\n",
              "      background-color: #3B4455;\n",
              "      fill: #D2E3FC;\n",
              "    }\n",
              "\n",
              "    [theme=dark] .colab-df-convert:hover {\n",
              "      background-color: #434B5C;\n",
              "      box-shadow: 0px 1px 3px 1px rgba(0, 0, 0, 0.15);\n",
              "      filter: drop-shadow(0px 1px 2px rgba(0, 0, 0, 0.3));\n",
              "      fill: #FFFFFF;\n",
              "    }\n",
              "  </style>\n",
              "\n",
              "      <script>\n",
              "        const buttonEl =\n",
              "          document.querySelector('#df-275a30ee-66dd-455c-9967-cbf6f8a9783e button.colab-df-convert');\n",
              "        buttonEl.style.display =\n",
              "          google.colab.kernel.accessAllowed ? 'block' : 'none';\n",
              "\n",
              "        async function convertToInteractive(key) {\n",
              "          const element = document.querySelector('#df-275a30ee-66dd-455c-9967-cbf6f8a9783e');\n",
              "          const dataTable =\n",
              "            await google.colab.kernel.invokeFunction('convertToInteractive',\n",
              "                                                     [key], {});\n",
              "          if (!dataTable) return;\n",
              "\n",
              "          const docLinkHtml = 'Like what you see? Visit the ' +\n",
              "            '<a target=\"_blank\" href=https://colab.research.google.com/notebooks/data_table.ipynb>data table notebook</a>'\n",
              "            + ' to learn more about interactive tables.';\n",
              "          element.innerHTML = '';\n",
              "          dataTable['output_type'] = 'display_data';\n",
              "          await google.colab.output.renderOutput(dataTable, element);\n",
              "          const docLink = document.createElement('div');\n",
              "          docLink.innerHTML = docLinkHtml;\n",
              "          element.appendChild(docLink);\n",
              "        }\n",
              "      </script>\n",
              "    </div>\n",
              "  </div>\n",
              "  "
            ]
          },
          "metadata": {}
        }
      ]
    },
    {
      "cell_type": "code",
      "source": [
        "train_labels['label']=train_labels['label'].astype(str)"
      ],
      "metadata": {
        "id": "5C91AAC41Rqi"
      },
      "execution_count": null,
      "outputs": []
    },
    {
      "cell_type": "code",
      "source": [
        "# Create folder\n",
        "\n",
        "import os\n",
        "import shutil\n",
        "\n",
        "train_folder='./train'\n",
        "test_folder='./test'\n",
        "\n",
        "for i in range(2):\n",
        "  subdirectory=os.path.join(train_folder, str(i))\n",
        "  os.makedirs(subdirectory, exist_ok=True)\n",
        "\n",
        "with open('./train_labels.csv', 'r') as f:\n",
        "  next(f)\n",
        "  for line in f:\n",
        "    filename, label = line.strip().split(',')\n",
        "    label=int(label)\n",
        "    src=os.path.join(train_folder, filename + '.tif')\n",
        "    dst=os.path.join(train_folder, str(label), filename + '.tif')\n",
        "    shutil.move(src, dst)\n",
        "\n",
        "for i in range(2):\n",
        "  subdirectory=os.path.join(test_folder, str(i))\n",
        "  os.makedirs(subdirectory, exist_ok=True)\n",
        "\n",
        "with open('./sample_submission.csv', 'r') as f:\n",
        "  next(f)\n",
        "  for line in f:\n",
        "    filename=line.strip().split(',')[0]\n",
        "    src=os.path.join(test_folder, filename + '.tif')\n",
        "    dst=os.path.join(test_folder, '0', filename + '.tif')\n",
        "    shutil.move(src, dst)\n",
        "    "
      ],
      "metadata": {
        "id": "SoNX5NjC1Ruw"
      },
      "execution_count": null,
      "outputs": []
    },
    {
      "cell_type": "code",
      "source": [
        "from tensorflow.keras.preprocessing.image import ImageDataGenerator\n",
        "\n",
        "train_dir='./train'\n",
        "test_dir='./test'\n",
        "\n",
        "train_datagen=ImageDataGenerator(rescale=1./255, validation_split=0.2)\n",
        "test_datagen=ImageDataGenerator(rescale=1./255)\n",
        "\n",
        "train_gen=train_datagen.flow_from_directory(\n",
        "    train_dir,\n",
        "    target_size=(96,96),\n",
        "    batch_size=256,\n",
        "    class_mode='binary',\n",
        "    subset='training'\n",
        ")\n",
        "\n",
        "val_gen=train_datagen.flow_from_directory(\n",
        "    train_dir,\n",
        "    target_size=(96,96),\n",
        "    batch_size=256,\n",
        "    class_mode='binary',\n",
        "    subset='validation'\n",
        ")"
      ],
      "metadata": {
        "id": "FbvudOs71RyH",
        "colab": {
          "base_uri": "https://localhost:8080/"
        },
        "outputId": "d16be1a0-6f08-4674-de48-915ac92d7f7c"
      },
      "execution_count": null,
      "outputs": [
        {
          "output_type": "stream",
          "name": "stdout",
          "text": "Found 176021 images belonging to 2 classes.\n\nFound 44004 images belonging to 2 classes.\n"
        }
      ]
    },
    {
      "cell_type": "code",
      "source": [
        "import tensorflow as tf\n",
        "from tensorflow.keras.applications.resnet50 import ResNet50\n",
        "from tensorflow.keras.layers import Flatten, Dense, Dropout\n",
        "from tensorflow.keras.models import Model\n",
        "from tensorflow.keras.optimizers import Adam, SGD\n",
        "\n",
        "resnet_model = ResNet50(weights='imagenet', include_top=False, input_shape=(96,96,3))\n",
        "\n",
        "for layer in resnet_model.layers:\n",
        "  layer.trainable=False\n",
        "\n",
        "x=Flatten()(resnet_model.output)\n",
        "x=Dense(4096, activation='relu')(x)\n",
        "x=Dropout(0.2)(x)\n",
        "x=Dense(2048, activation='relu')(x)\n",
        "x=Dropout(0.2)(x)\n",
        "x=Dense(1, activation='sigmoid')(x)\n",
        "modelResnet50=Model(inputs=resnet_model.input, outputs=x)\n",
        "\n",
        "modelResnet50.compile(loss='binary_crossentropy', optimizer=SGD(learning_rate=0.001, momentum=0.9), metrics=['accuracy'])\n",
        "\n",
        "history_resnet=modelResnet50.fit(train_gen, epochs=10, validation_data=val_gen)"
      ],
      "metadata": {
        "id": "umNjVx6y8TON",
        "colab": {
          "base_uri": "https://localhost:8080/"
        },
        "outputId": "1d739438-7f73-43a1-9edd-ce940fab3fcf"
      },
      "execution_count": null,
      "outputs": [
        {
          "output_type": "stream",
          "name": "stdout",
          "text": "Epoch 1/10\n\n688/688 [==============================] - 344s 495ms/step - loss: 0.6337 - accuracy: 0.6341 - val_loss: 0.5847 - val_accuracy: 0.6829\n\nEpoch 2/10\n\n688/688 [==============================] - 356s 517ms/step - loss: 0.5832 - accuracy: 0.6870 - val_loss: 0.5533 - val_accuracy: 0.7261\n\nEpoch 3/10\n\n688/688 [==============================] - 359s 522ms/step - loss: 0.5618 - accuracy: 0.7083 - val_loss: 0.5440 - val_accuracy: 0.7258\n\nEpoch 4/10\n\n688/688 [==============================] - 336s 488ms/step - loss: 0.5486 - accuracy: 0.7212 - val_loss: 0.5493 - val_accuracy: 0.7218\n\nEpoch 5/10\n\n688/688 [==============================] - 307s 446ms/step - loss: 0.5443 - accuracy: 0.7254 - val_loss: 0.5311 - val_accuracy: 0.7313\n\nEpoch 6/10\n\n688/688 [==============================] - 297s 432ms/step - loss: 0.5408 - accuracy: 0.7278 - val_loss: 0.5255 - val_accuracy: 0.7464\n\nEpoch 7/10\n\n688/688 [==============================] - 312s 453ms/step - loss: 0.5356 - accuracy: 0.7319 - val_loss: 0.5244 - val_accuracy: 0.7458\n\nEpoch 8/10\n\n688/688 [==============================] - 306s 445ms/step - loss: 0.5387 - accuracy: 0.7278 - val_loss: 0.5179 - val_accuracy: 0.7477\n\nEpoch 9/10\n\n688/688 [==============================] - 301s 438ms/step - loss: 0.5326 - accuracy: 0.7341 - val_loss: 0.5515 - val_accuracy: 0.7108\n\nEpoch 10/10\n\n688/688 [==============================] - 296s 430ms/step - loss: 0.5343 - accuracy: 0.7328 - val_loss: 0.5271 - val_accuracy: 0.7424\n"
        }
      ]
    },
    {
      "cell_type": "markdown",
      "source": [
        "After training the ResNet50 model, the accuracy rate obtained was 0.74 with a loss of 0.52. For the next pre-trained model, VGG19 will be used to improve the accuracy of the model."
      ],
      "metadata": {
        "id": "Hn76FRqzuwp-"
      }
    },
    {
      "cell_type": "code",
      "source": [
        "test_datagen=ImageDataGenerator(rescale=1./255)\n",
        "\n",
        "test_gen=test_datagen.flow_from_directory(\n",
        "    test_dir,\n",
        "    target_size=(96,96),\n",
        "    batch_size=256,\n",
        "    class_mode=None,\n",
        "    shuffle=False\n",
        ")\n",
        "\n",
        "resnet50_predictions=modelResnet50.predict(test_gen)\n",
        "\n",
        "test_labels=(resnet50_predictions > 0.5).astype(int)\n",
        "\n",
        "print(test_labels)"
      ],
      "metadata": {
        "id": "5IeKN-Nm1R1P",
        "colab": {
          "base_uri": "https://localhost:8080/"
        },
        "outputId": "7e6adcc3-a049-40a7-e635-7bee06f359f2"
      },
      "execution_count": null,
      "outputs": [
        {
          "output_type": "stream",
          "name": "stdout",
          "text": "Found 57458 images belonging to 2 classes.\n\n225/225 [==============================] - 54s 237ms/step\n\n[[0]\n\n [1]\n\n [0]\n\n ...\n\n [0]\n\n [0]\n\n [0]]\n"
        }
      ]
    },
    {
      "cell_type": "code",
      "source": [
        "import matplotlib.pyplot as plt\n",
        "\n",
        "acc=history_resnet.history['accuracy']\n",
        "val_acc=history_resnet.history['val_accuracy']\n",
        "loss=history_resnet.history['loss']\n",
        "val_loss=history_resnet.history['val_loss']\n",
        "\n",
        "epoch_ranges=range(1, len(history_resnet.history['accuracy']) + 1)\n",
        "\n",
        "plt.figure(figsize=(15,15))\n",
        "plt.subplot(1,2,1)\n",
        "plt.plot(epoch_ranges, acc, label='Training Accuracy')\n",
        "plt.plot(epoch_ranges, val_acc, label='Validation Accuracy')\n",
        "plt.legend(loc='lower right')\n",
        "plt.title('Training and Validation Accuracy')\n",
        "\n",
        "plt.subplot(1,2,2)\n",
        "plt.plot(epoch_ranges, loss, label='Training Loss')\n",
        "plt.plot(epoch_ranges, val_loss, label='Validation Loss')\n",
        "plt.legend(loc='upper right')\n",
        "plt.title('Training and Validation Loss')\n",
        "plt.show()\n",
        "\n",
        "\n",
        "\n",
        "\n",
        "\n",
        "#resnet50_predictions=modelResnet50.predict(test_gen)"
      ],
      "metadata": {
        "id": "KYlH5Gb71R5j",
        "colab": {
          "base_uri": "https://localhost:8080/",
          "height": 879
        },
        "outputId": "5df6d680-328b-459e-b0d5-bdd91a483345"
      },
      "execution_count": null,
      "outputs": [
        {
          "output_type": "display_data",
          "data": {
            "text/plain": [
              "<Figure size 1080x1080 with 2 Axes>"
            ],
            "image/png": "[encoded data removed]"
          },
          "metadata": {
            "needs_background": "light"
          }
        }
      ]
    },
    {
      "cell_type": "code",
      "source": [
        "from tensorflow.keras.applications.vgg19 import VGG19\n",
        "from tensorflow.keras.models import Sequential\n",
        "from tensorflow.keras.layers import Dense, Dropout, Flatten\n",
        "\n",
        "vgg19 = VGG19(weights='imagenet', include_top=False, input_shape=(96,96,3))\n",
        "\n",
        "for layer in vgg19.layers:\n",
        "  layer .trainable=False\n",
        "\n",
        "model_vgg19=Sequential()\n",
        "model_vgg19.add(vgg19)\n",
        "model_vgg19.add(Flatten())\n",
        "model_vgg19.add(Dense(256, activation='relu'))\n",
        "model_vgg19.add(Dropout(0.5))\n",
        "model_vgg19.add(Dense(1, activation='sigmoid'))\n",
        "\n",
        "model_vgg19.compile(loss='binary_crossentropy', optimizer=SGD(learning_rate=0.001, momentum=0.9), metrics=['accuracy'])\n",
        "\n",
        "historyVGG19 = model_vgg19.fit(train_gen, epochs=10, validation_data=val_gen)\n",
        "lossvgg19, accvgg19 = model_vgg19.evaluate(test_gen)\n",
        "\n",
        "print('Test Accuracy:', accvgg19)\n",
        "print('Loss:', lossvgg19)\n"
      ],
      "metadata": {
        "id": "N7MmXtyi-EIt",
        "colab": {
          "base_uri": "https://localhost:8080/"
        },
        "outputId": "fef21c09-5c1a-4d4c-d604-909018e8ee2a"
      },
      "execution_count": null,
      "outputs": [
        {
          "output_type": "stream",
          "name": "stdout",
          "text": "Downloading data from https://storage.googleapis.com/tensorflow/keras-applications/vgg19/vgg19_weights_tf_dim_ordering_tf_kernels_notop.h5\n\n80134624/80134624 [==============================] - 3s 0us/step\n\nEpoch 1/10\n\n688/688 [==============================] - 331s 471ms/step - loss: 0.4437 - accuracy: 0.7950 - val_loss: 0.3976 - val_accuracy: 0.8202\n\nEpoch 2/10\n\n688/688 [==============================] - 308s 448ms/step - loss: 0.4067 - accuracy: 0.8162 - val_loss: 0.3857 - val_accuracy: 0.8282\n\nEpoch 3/10\n\n688/688 [==============================] - 310s 451ms/step - loss: 0.3943 - accuracy: 0.8231 - val_loss: 0.3761 - val_accuracy: 0.8329\n\nEpoch 4/10\n\n688/688 [==============================] - 313s 455ms/step - loss: 0.3855 - accuracy: 0.8274 - val_loss: 0.3762 - val_accuracy: 0.8326\n\nEpoch 5/10\n\n688/688 [==============================] - 319s 463ms/step - loss: 0.3798 - accuracy: 0.8302 - val_loss: 0.3629 - val_accuracy: 0.8395\n\nEpoch 6/10\n\n688/688 [==============================] - 304s 442ms/step - loss: 0.3740 - accuracy: 0.8335 - val_loss: 0.3579 - val_accuracy: 0.8418\n\nEpoch 7/10\n\n688/688 [==============================] - 330s 480ms/step - loss: 0.3701 - accuracy: 0.8358 - val_loss: 0.3552 - val_accuracy: 0.8438\n\nEpoch 8/10\n\n688/688 [==============================] - 293s 425ms/step - loss: 0.3650 - accuracy: 0.8380 - val_loss: 0.3515 - val_accuracy: 0.8467\n\nEpoch 9/10\n\n688/688 [==============================] - 302s 439ms/step - loss: 0.3626 - accuracy: 0.8402 - val_loss: 0.3475 - val_accuracy: 0.8488\n\nEpoch 10/10\n\n688/688 [==============================] - 294s 428ms/step - loss: 0.3592 - accuracy: 0.8422 - val_loss: 0.3449 - val_accuracy: 0.8492\n\n225/225 [==============================] - 40s 176ms/step - loss: 0.0000e+00 - accuracy: 0.0000e+00\n\nTest Accuracy: 0.0\n\nLoss: 0.0\n"
        }
      ]
    },
    {
      "cell_type": "markdown",
      "source": [
        "The VGG19 model achieved an impressive accuracy of 0.85 with a loss of only \n",
        "0.34. This model used a deeper architecture with 19 layers, allowing it to learn more complex features of the images. This demonstrates the importance of using a powerful pre-trained model for image classification tasks. With its high accuracy, the VGG19 model is a strong candidate for further use in similar projects."
      ],
      "metadata": {
        "id": "GAknsbmNwiD5"
      }
    },
    {
      "cell_type": "code",
      "source": [
        "from sklearn.metrics import classification_report\n",
        "import numpy as np\n",
        "\n",
        "# Classification Report for ResNet and VGG19\n",
        "resnt50_predictions=modelResnet50.predict(test_gen)\n",
        "resnet50_predict_labels=(resnet50_predictions > 0.5).astype(int)\n",
        "resnet50_true_labels=test_gen.classes\n",
        "resnet50_report=classification_report(resnet50_true_labels, resnet50_predict_labels)\n",
        "print('ResNet Classification Report:\\n', resnet50_report)\n",
        "\n",
        "vgg19_predictions=model_vgg19.predict(test_gen)\n",
        "vgg19_predict_labels=(vgg19_predictions > 0.5).astype(int)\n",
        "vgg19_true_labels=test_gen.classes\n",
        "vgg19_report=classification_report(vgg19_true_labels, vgg19_predict_labels)\n",
        "print('VGG19 Classification Report:\\n', vgg19_report)\n",
        "\n"
      ],
      "metadata": {
        "colab": {
          "base_uri": "https://localhost:8080/"
        },
        "id": "f3v5xFr_9OHI",
        "outputId": "cb62d119-52da-405d-ee76-e3bb446fcb9b"
      },
      "execution_count": null,
      "outputs": [
        {
          "output_type": "stream",
          "name": "stdout",
          "text": "225/225 [==============================] - 60s 268ms/step\n"
        },
        {
          "output_type": "stream",
          "name": "stderr",
          "text": "/usr/local/lib/python3.8/dist-packages/sklearn/metrics/_classification.py:1318: UndefinedMetricWarning: Recall and F-score are ill-defined and being set to 0.0 in labels with no true samples. Use `zero_division` parameter to control this behavior.\n\n  _warn_prf(average, modifier, msg_start, len(result))\n\n/usr/local/lib/python3.8/dist-packages/sklearn/metrics/_classification.py:1318: UndefinedMetricWarning: Recall and F-score are ill-defined and being set to 0.0 in labels with no true samples. Use `zero_division` parameter to control this behavior.\n\n  _warn_prf(average, modifier, msg_start, len(result))\n\n/usr/local/lib/python3.8/dist-packages/sklearn/metrics/_classification.py:1318: UndefinedMetricWarning: Recall and F-score are ill-defined and being set to 0.0 in labels with no true samples. Use `zero_division` parameter to control this behavior.\n\n  _warn_prf(average, modifier, msg_start, len(result))\n"
        },
        {
          "output_type": "stream",
          "name": "stdout",
          "text": "ResNet Classification Report:\n\n               precision    recall  f1-score   support\n\n\n\n           0       1.00      0.62      0.76     57458\n\n           1       0.00      0.00      0.00         0\n\n\n\n    accuracy                           0.62     57458\n\n   macro avg       0.50      0.31      0.38     57458\n\nweighted avg       1.00      0.62      0.76     57458\n\n\n\n225/225 [==============================] - 72s 322ms/step\n\nVGG19 Classification Report:\n\n               precision    recall  f1-score   support\n\n\n\n           0       1.00      0.64      0.78     57458\n\n           1       0.00      0.00      0.00         0\n\n\n\n    accuracy                           0.64     57458\n\n   macro avg       0.50      0.32      0.39     57458\n\nweighted avg       1.00      0.64      0.78     57458\n\n\n"
        },
        {
          "output_type": "stream",
          "name": "stderr",
          "text": "/usr/local/lib/python3.8/dist-packages/sklearn/metrics/_classification.py:1318: UndefinedMetricWarning: Recall and F-score are ill-defined and being set to 0.0 in labels with no true samples. Use `zero_division` parameter to control this behavior.\n\n  _warn_prf(average, modifier, msg_start, len(result))\n\n/usr/local/lib/python3.8/dist-packages/sklearn/metrics/_classification.py:1318: UndefinedMetricWarning: Recall and F-score are ill-defined and being set to 0.0 in labels with no true samples. Use `zero_division` parameter to control this behavior.\n\n  _warn_prf(average, modifier, msg_start, len(result))\n\n/usr/local/lib/python3.8/dist-packages/sklearn/metrics/_classification.py:1318: UndefinedMetricWarning: Recall and F-score are ill-defined and being set to 0.0 in labels with no true samples. Use `zero_division` parameter to control this behavior.\n\n  _warn_prf(average, modifier, msg_start, len(result))\n"
        }
      ]
    },
    {
      "cell_type": "code",
      "source": [
        "from tabulate import tabulate\n",
        "\n",
        "data=[['Model1', 0.83, 0.39, 1.0, 0.69, 0.82],\n",
        "      ['Model2', 0.92, 0.22, 1.0, 0.65, 0.79],\n",
        "      ['VGG16', 0.67, 0.87, 1.0, 1.0, 1.0],\n",
        "      ['VGG16_2', 0.96, 0.12, 1.0, 1.0, 1.0],\n",
        "      ['ResNet50', 0.74, 0.53, 1.0, 0.62, 0.76],\n",
        "      ['VGG19', 0.85, 0.34, 1.0, 0.64, 0.78]]\n",
        "\n",
        "headers=['Model', 'Accuracy', 'Loss', 'Precision', 'Recall', 'F1 Score']\n",
        "\n",
        "print(tabulate(data, headers=headers, tablefmt='orgtbl'))"
      ],
      "metadata": {
        "colab": {
          "base_uri": "https://localhost:8080/"
        },
        "id": "PtYYAUakYexf",
        "outputId": "e8efdda4-6b97-4d55-8011-fd2bdee5259f"
      },
      "execution_count": 1,
      "outputs": [
        {
          "output_type": "stream",
          "name": "stdout",
          "text": [
            "| Model    |   Accuracy |   Loss |   Precision |   Recall |   F1 Score |\n",
            "|----------+------------+--------+-------------+----------+------------|\n",
            "| Model1   |       0.83 |   0.39 |           1 |     0.69 |       0.82 |\n",
            "| Model2   |       0.92 |   0.22 |           1 |     0.65 |       0.79 |\n",
            "| VGG16    |       0.67 |   0.87 |           1 |     1    |       1    |\n",
            "| VGG16_2  |       0.96 |   0.12 |           1 |     1    |       1    |\n",
            "| ResNet50 |       0.74 |   0.53 |           1 |     0.62 |       0.76 |\n",
            "| VGG19    |       0.85 |   0.34 |           1 |     0.64 |       0.78 |\n"
          ]
        }
      ]
    },
    {
      "cell_type": "code",
      "source": [
        "import matplotlib.pyplot as plt\n",
        "\n",
        "# Accuracy data for each model\n",
        "model1_acc = [0.83, 0, 0, 0, 0, 0]\n",
        "model2_acc = [0.92, 0, 0, 0, 0, 0]\n",
        "vgg16_acc = [0.67, 0, 0, 0, 0, 0]\n",
        "vgg16_2_acc = [0.96, 0, 0, 0, 0, 0]\n",
        "resnet50_acc = [0.74, 0, 0, 0, 0, 0]\n",
        "vgg19_acc = [0.85, 0, 0, 0, 0, 0]\n",
        "\n",
        "# Create a list with the number of epochs for the x-axis\n",
        "x = [1, 2, 3, 4, 5, 6]\n",
        "\n",
        "# Plot the accuracy for each model\n",
        "plt.plot(x, model1_acc, color='red', label='Model 1')\n",
        "plt.plot(x, model2_acc, color='green', label='Model 2')\n",
        "plt.plot(x, vgg16_acc, color='blue', label='VGG16')\n",
        "plt.plot(x, vgg16_2_acc, color='purple', label='VGG16_2')\n",
        "plt.plot(x, resnet50_acc, color='orange', label='ResNet50')\n",
        "plt.plot(x, vgg19_acc, color='black', label='VGG19')\n",
        "\n",
        "# Add a legend and axis labels\n",
        "plt.legend()\n",
        "plt.xlabel('Epochs')\n",
        "plt.ylabel('Validation accuracy')\n",
        "\n",
        "# Show the plot\n",
        "plt.show()\n",
        "\n",
        "\n",
        "\n"
      ],
      "metadata": {
        "colab": {
          "base_uri": "https://localhost:8080/",
          "height": 282
        },
        "id": "Xh1HbQtkf2H4",
        "outputId": "367d1597-e9ea-4dd7-9b34-31fd2b81fd99"
      },
      "execution_count": 8,
      "outputs": [
        {
          "output_type": "display_data",
          "data": {
            "text/plain": [
              "<Figure size 432x288 with 1 Axes>"
            ],
            "image/png": "[encoded data removed]"
          },
          "metadata": {
            "needs_background": "light"
          }
        }
      ]
    },
    {
      "cell_type": "markdown",
      "source": [
        "**RESULTS and ANALYSIS:** \n",
        "\n",
        "\n",
        "After evaluating several pre-trained models on the histopathologic cancer detection dataset, we can see that VGG16_2 performed the best, with an accuracy rate of 0.96 and an F1 score of 1.0. This model had added layers and dropout to improve its performance. \n",
        "\n",
        "However, the initial VGG16 model did not perform as well as the other models, with an accuracy rate of only 0.67. This highlights the importance of adding additional layers and dropout to improve the performance of pre-trained models.\n",
        "\n",
        "The ResNet50 model had an accuracy rate of 0.74, which is relatively low compared to the other models. Its precision and recall scores were both lower than the other models as well, indicating that it may not be the best choice for this particular dataset.\n",
        "\n",
        "VGG19 performed relatively well, with an accuracy rate of 0.85 and a precision score of 1.0. However, its recall score was lower than some of the other models, which may indicate a higher rate of false negatives.\n",
        "\n",
        "Overall, it is important to carefully evaluate different pre-trained models and to experiment with different modifications, such as adding layers and dropout, in order to find the best model for a particular task."
      ],
      "metadata": {
        "id": "MgZbCJXexd2e"
      }
    },
    {
      "cell_type": "markdown",
      "source": [
        "**CONCLUSION: **\n",
        "\n",
        "\n",
        "In conclusion, we have trained and evaluated six different pre-trained models on the Histopathologic Cancer Detection dataset. Model 2 and VGG16_2 yielded the highest accuracy of 0.92 and 0.96, respectively, while VGG16 had the lowest accuracy of 0.67. Model1, Model2, VGG16_2, VGG19, and ResNet50 achieved perfect precision scores, indicating that they were highly accurate in detecting positive cases. \n",
        "\n",
        "One key takeaway from our analysis is the importance of using dropout layers to prevent overfitting, as seen in the significant improvement in VGG16_2's accuracy and loss compared to the original VGG16 model. I also observed that increasing the number of dense layers and adding more neurons to each layer, such as in VGG16_2 and Model2, could lead to better performance, as indicated by their high accuracy and perfect precision and recall scores.\n",
        "\n",
        "On the other hand, ResNet50 had relatively lower performance in terms of accuracy and recall. In the future, I could try using more advanced architectures or tuning the hyperparameters further to achieve even better performance. Overall, our analysis demonstrates the power of pre-trained models and the potential for further improvements in the field of cancer detection using deep learning."
      ],
      "metadata": {
        "id": "4Bz0ucADxeL1"
      }
    }
  ]
}